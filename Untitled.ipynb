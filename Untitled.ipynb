{
 "cells": [
  {
   "cell_type": "code",
   "execution_count": 16,
   "id": "4ed2542e-faba-409f-b2ef-6014cea74036",
   "metadata": {},
   "outputs": [
    {
     "name": "stdout",
     "output_type": "stream",
     "text": [
      "60.109\n"
     ]
    }
   ],
   "source": [
    "import numpy as np\n",
    "import timeit\n",
    "import time\n",
    "import statistics\n",
    "import numpy as np\n",
    "\n",
    "\n",
    "\n",
    "\n",
    "# From: https://stackabuse.com/bubble-sort-in-python/\n",
    "\n",
    "def bubble_sort(our_list):\n",
    "    # Go through the array as many times as there are elements in the array\n",
    "    for i in range(len(our_list)):\n",
    "        # Go through the array up to the second last element\n",
    "        for j in range(len(our_list) - 1):\n",
    "            # If the element before the next element is larger...\n",
    "            if our_list[j] > our_list[j+1]:\n",
    "                # Swap their positions\n",
    "                our_list[j], our_list[j+1] = our_list[j+1], our_list[j]\n",
    "\n",
    "rng = np.random.default_rng()\n",
    "#list= rng.integers(low=0, high=10, size=1000)\n",
    "\n",
    "\n",
    "#test= []\n",
    "#start_time = time.time()\n",
    "## call your function\n",
    "#bubble_sort(rng.integers(low=0, high=10, size=1000))\n",
    "#end_time = time.time()\n",
    "#time_elapsed = end_time - start_time\n",
    "\n",
    "#test_runs= [100, 200, 500,750, 1000, 1250,2500, 3750, 5000, 6250, 7500, 8750, 10000]\n",
    "for x in test_runs:\n",
    "    test= []\n",
    "    start_time = time.time()\n",
    "    # call your function\n",
    "    bubble_sort(rng.integers(low=0, high=10, size=x))\n",
    "    end_time = time.time()\n",
    "    time_elapsed = end_time - start_time\n",
    "    \n",
    "\n",
    "\n",
    "for i in range(10):\n",
    "  test.append(time_elapsed)\n",
    "print(round(np.mean(test), 3))"
   ]
  },
  {
   "cell_type": "code",
   "execution_count": null,
   "id": "dcb01f40-e5f7-4ae2-b880-73968c154a6c",
   "metadata": {},
   "outputs": [],
   "source": []
  }
 ],
 "metadata": {
  "kernelspec": {
   "display_name": "Python 3",
   "language": "python",
   "name": "python3"
  },
  "language_info": {
   "codemirror_mode": {
    "name": "ipython",
    "version": 3
   },
   "file_extension": ".py",
   "mimetype": "text/x-python",
   "name": "python",
   "nbconvert_exporter": "python",
   "pygments_lexer": "ipython3",
   "version": "3.8.8"
  }
 },
 "nbformat": 4,
 "nbformat_minor": 5
}
